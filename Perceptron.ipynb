{
 "cells": [
  {
   "cell_type": "code",
   "execution_count": 1,
   "metadata": {},
   "outputs": [],
   "source": [
    "import numpy as np"
   ]
  },
  {
   "cell_type": "code",
   "execution_count": 16,
   "metadata": {},
   "outputs": [],
   "source": [
    "class Perceptron(object):\n",
    "    \"\"\"Implementing Perceptron Network\"\"\"\n",
    "    def __init__(self, input_size, lr = 1, epochs= 10):\n",
    "        self.W = np.zeros(input_size+1)\n",
    "        self.lr = 1\n",
    "        self.epochs = 10\n",
    "    \n",
    "    def activation_fn(self,x):\n",
    "        return 1 if x>0 else 0 \n",
    "    \n",
    "    def predict(self,x):\n",
    "        x = np.insert(x,0,1)\n",
    "        z = self.W.T.dot(x)\n",
    "        a = self.activation_fn(z)\n",
    "        \n",
    "        return a\n",
    "    \n",
    "    def fit(self,X,d):\n",
    "        for _ in range(self.epochs):\n",
    "            for i in range(d.shape[0]):\n",
    "                y = self.predict(X[i])\n",
    "                e = d[i] - y\n",
    "                self.W = self.W + self.lr * e * np.insert(X[i],0,1)"
   ]
  },
  {
   "cell_type": "code",
   "execution_count": 17,
   "metadata": {},
   "outputs": [],
   "source": [
    "X = np.array([[0,0],[0,1],[1,0],[1,1]])\n",
    "d = np.array([0,0,0,1])\n",
    "\n"
   ]
  },
  {
   "cell_type": "code",
   "execution_count": 18,
   "metadata": {},
   "outputs": [
    {
     "name": "stdout",
     "output_type": "stream",
     "text": [
      "[-2.  2.  1.]\n"
     ]
    }
   ],
   "source": [
    "perceptron = Perceptron(input_size = 2)\n",
    "perceptron.fit(X,d)\n",
    "print(perceptron.W)"
   ]
  },
  {
   "cell_type": "code",
   "execution_count": 20,
   "metadata": {},
   "outputs": [
    {
     "data": {
      "text/plain": [
       "0"
      ]
     },
     "execution_count": 20,
     "metadata": {},
     "output_type": "execute_result"
    }
   ],
   "source": [
    "perceptron.predict(np.asarray([1,0]))"
   ]
  },
  {
   "cell_type": "markdown",
   "metadata": {},
   "source": [
    "# Perceptron Sınıfının methodları \n",
    "\n",
    " - **init methodu** Perceptron sınıfının yapıcı methodu olup, giriş şekli (input size), öğrenme değeri (learning rate), ve kaç kere yani eğitimin yapılacağı yani epochs bekler \n",
    " - **activation_fn methodu**  activation_fn fonksiyonu gelen değerin ağırlık ile çıkışı etkilemesi için kullanılır, derin öğrenmede hangi nöronun aktif olacağını söyler, bizim yazdığımız aktivasyon fonksiyonu **relu** ya tekabül etmekte, başka aktivasyon fonksiyonları bknz. sigmoid, softmax, tanh...\n",
    " - **predict methodu** eğitilen perceptron için tahmin fonksiyonu\n",
    " - **fit methodu**  perceptron ağımızı eğitmek için kullanılan fonksiyon X -> değerler y-> doğru çıktılar ( denetimli öğrenme)\n",
    " \n",
    "# XOR OLARAK DEĞİŞTİRME \n",
    " Tek katmanlı\" bir Perceptron XOR uygulayamaz. Bunun nedeni, XOR'daki sınıfların doğrusal olarak ayrılabilir olmamasıdır. (0,0), (1,1) noktalarını (0,1), (1,0) noktalarından ayırmak için düz bir çizgi çizemememiz.\n",
    " \n",
    "\n",
    "# 40 imza ile öğretme\n",
    " \n",
    " Bunu tek bir perceptron ile yapabilir miyiz ? Çoklu perceptrona ihtiyacımız olur ? \n",
    " \n",
    "X değeri her bir imzanın Fotoğraftaki piksellerin vektörel hali,\n",
    "y değeri ise kişi etiketi örnek ahmet - > 1 \n",
    "\n",
    "# Modelin hatasını elde etme\n",
    "MAE(MEAN ABSOLUTE ERROR) KULLANABİLİRİZ. \n",
    "![alt text](mae.png \"Logo Title Text 1\")\n",
    "\n"
   ]
  },
  {
   "cell_type": "code",
   "execution_count": 26,
   "metadata": {},
   "outputs": [
    {
     "name": "stderr",
     "output_type": "stream",
     "text": [
      "warning: LF will be replaced by CRLF in .ipynb_checkpoints/Perceptron-checkpoint.ipynb.\n",
      "The file will have its original line endings in your working directory\n",
      "warning: LF will be replaced by CRLF in Perceptron.ipynb.\n",
      "The file will have its original line endings in your working directory\n"
     ]
    }
   ],
   "source": [
    "! git add ."
   ]
  },
  {
   "cell_type": "code",
   "execution_count": 27,
   "metadata": {},
   "outputs": [
    {
     "name": "stdout",
     "output_type": "stream",
     "text": [
      "[master 1873003] perceptron added.\n",
      " 2 files changed, 132 insertions(+), 16 deletions(-)\n"
     ]
    }
   ],
   "source": [
    "!git commit -m \"perceptron added.\" \n"
   ]
  },
  {
   "cell_type": "code",
   "execution_count": 28,
   "metadata": {},
   "outputs": [
    {
     "name": "stderr",
     "output_type": "stream",
     "text": [
      "To https://github.com/emirkivrak/digital-image-processing\n",
      "   78d5b7a..1873003  master -> master\n"
     ]
    }
   ],
   "source": [
    "!git push origin master"
   ]
  },
  {
   "cell_type": "code",
   "execution_count": null,
   "metadata": {},
   "outputs": [],
   "source": []
  }
 ],
 "metadata": {
  "kernelspec": {
   "display_name": "Python 3",
   "language": "python",
   "name": "python3"
  },
  "language_info": {
   "codemirror_mode": {
    "name": "ipython",
    "version": 3
   },
   "file_extension": ".py",
   "mimetype": "text/x-python",
   "name": "python",
   "nbconvert_exporter": "python",
   "pygments_lexer": "ipython3",
   "version": "3.8.5"
  }
 },
 "nbformat": 4,
 "nbformat_minor": 4
}

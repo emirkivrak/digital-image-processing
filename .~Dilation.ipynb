{
 "cells": [
  {
   "cell_type": "code",
   "execution_count": 1,
   "metadata": {},
   "outputs": [],
   "source": [
    "import matplotlib.pyplot as plt\n",
    "import numpy as np"
   ]
  },
  {
   "cell_type": "code",
   "execution_count": 2,
   "metadata": {},
   "outputs": [],
   "source": [
    "def convert_RGB_to_monochrome_BW(image_1, threshold = 100):\n",
    "    img_1 = plt.imread(image_1)\n",
    "    img_2 = np.zeros((img_1.shape[0],img_1.shape[1]))\n",
    "    for i in range (img_2.shape[0]):\n",
    "        for j in range (img_2.shape[1]):\n",
    "            if(img_1[i,j,0]/3 + img_1[i,j,1]/3 + img_1[i,j,1]/3)>threshold:\n",
    "                img_2[i,j] = 0\n",
    "            else:\n",
    "                img_2[i,j] = 1\n",
    "    return img_2"
   ]
  },
  {
   "cell_type": "code",
   "execution_count": 3,
   "metadata": {},
   "outputs": [],
   "source": [
    "def m_f_0_and(l1,l2):\n",
    "    n = len(l1)\n",
    "    s = []\n",
    "    for i in range (n):\n",
    "        a = (l1[i] and l2[i])\n",
    "        s.append(a)\n",
    "    return s\n",
    "#operator 0 degeri icin AND 1 degeri icin OR calistirir\n",
    "def m_f_1_AND_or_OR(l1,operator = 0):\n",
    "    if operator:\n",
    "        if 1 in l1:\n",
    "            s1 = 1\n",
    "        else:\n",
    "            s1 = 0\n",
    "    else:\n",
    "        if 0 in l1:\n",
    "            s1 = 0\n",
    "        else:\n",
    "            s1 = 1\n",
    "\n",
    "    return s1\n",
    "\n",
    "def m_f_2_combine(l1,l2,operator = 0):\n",
    "    a = m_f_0_and(l1,l2)\n",
    "    return m_f_1_AND_or_OR(a,operator)"
   ]
  },
  {
   "cell_type": "code",
   "execution_count": 4,
   "metadata": {},
   "outputs": [
    {
     "data": {
      "text/plain": [
       "0"
      ]
     },
     "execution_count": 4,
     "metadata": {},
     "output_type": "execute_result"
    }
   ],
   "source": [
    "list_1 = [0, 0, 1, 0, 1]    \n",
    "list_2 = [1, 1, 1, 1, 1]    \n",
    "\n",
    "m_f_2_combine(list_1,list_2)"
   ]
  },
  {
   "cell_type": "code",
   "execution_count": null,
   "metadata": {},
   "outputs": [],
   "source": [
    "path_file = r\"black_and_white.png\"\n",
    "img_1 = plt.imread(path_file)\n",
    "img_2 = convert_RGB_to_monochrome_BW(path_file, 0.5)\n",
    "\n",
    "plt.subplot(1,2,1),plt.imshow(img_1)\n",
    "plt.subplot(1,2,2),plt.imshow(img_2, cmap = 'gray')\n",
    "plt.show()"
   ]
  }
 ],
 "metadata": {
  "kernelspec": {
   "display_name": "Python 3",
   "language": "python",
   "name": "python3"
  },
  "language_info": {
   "codemirror_mode": {
    "name": "ipython",
    "version": 3
   },
   "file_extension": ".py",
   "mimetype": "text/x-python",
   "name": "python",
   "nbconvert_exporter": "python",
   "pygments_lexer": "ipython3",
   "version": "3.8.3"
  }
 },
 "nbformat": 4,
 "nbformat_minor": 4
}
